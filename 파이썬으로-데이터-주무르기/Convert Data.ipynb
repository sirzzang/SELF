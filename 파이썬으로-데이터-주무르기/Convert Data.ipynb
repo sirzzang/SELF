{
 "cells": [
  {
   "cell_type": "code",
   "execution_count": 2,
   "metadata": {},
   "outputs": [],
   "source": [
    "import pandas as pd"
   ]
  },
  {
   "cell_type": "markdown",
   "metadata": {},
   "source": [
    "# 1장\n",
    "- 서울시 cctv 현황 : `xlsx` 파일이므로, `csv` 형태로 바꾸어야 함.\n",
    "- 서울시 인구 현황 : `,`를 삭제하고, `csv` 형태로 바꾸어야 함."
   ]
  },
  {
   "cell_type": "code",
   "execution_count": 4,
   "metadata": {},
   "outputs": [
    {
     "data": {
      "text/plain": [
       "'C:\\\\python_CPUENV\\\\파이썬으로 데이터 주무르기'"
      ]
     },
     "execution_count": 4,
     "metadata": {},
     "output_type": "execute_result"
    }
   ],
   "source": [
    "import os\n",
    "os.getcwd()"
   ]
  },
  {
   "cell_type": "code",
   "execution_count": 8,
   "metadata": {
    "scrolled": false
   },
   "outputs": [],
   "source": [
    "cctv_raw= pd.read_excel(\"./data/cctv_raw.xlsx\", encoding = 'utf-8')\n",
    "cctv_raw.to_csv(\"./data/CCTV_in_Seoul.csv\", encoding='utf-8', index=False)"
   ]
  },
  {
   "cell_type": "code",
   "execution_count": 36,
   "metadata": {
    "scrolled": false
   },
   "outputs": [],
   "source": [
    "pop_raw = pd.read_csv(\"./data/pop_raw.txt\", sep='\\t', lineterminator='\\r')\n",
    "\n",
    "# 문자 제거, 숫자형 변환\n",
    "for column in pop_raw.columns:\n",
    "    pop_raw[column] = pop_raw[column].str.replace('\\n', '').str.replace(',', '')\n",
    "    pop_raw[column] = pd.to_numeric(pop_raw[column], errors='ignore')\n",
    "\n",
    "# csv 파일 변환\n",
    "pop_raw.to_csv(\"./data/population_in_Seoul.csv\", encoding='utf-8', index=False)"
   ]
  }
 ],
 "metadata": {
  "kernelspec": {
   "display_name": "Python 3",
   "language": "python",
   "name": "python3"
  },
  "language_info": {
   "codemirror_mode": {
    "name": "ipython",
    "version": 3
   },
   "file_extension": ".py",
   "mimetype": "text/x-python",
   "name": "python",
   "nbconvert_exporter": "python",
   "pygments_lexer": "ipython3",
   "version": "3.7.7"
  }
 },
 "nbformat": 4,
 "nbformat_minor": 4
}
