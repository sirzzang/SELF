{
 "cells": [
  {
   "cell_type": "markdown",
   "metadata": {},
   "source": [
    " Django는 웹 애플리케이션을 개발하기 위한 class들이 모여 있는 프레임워크라고 보면 된다. 따라서 Django를 이해하기 위해서는 다음의 기본적인 개념들을 알아야 한다."
   ]
  },
  {
   "cell_type": "markdown",
   "metadata": {},
   "source": [
    "# 1. 함수 인자 : args, kwargs\n",
    "\n",
    "* positional argument : 순서대로 입력되는 인자. tuple 형태로 입력.\n",
    "    - `*args` : positional argument가 무제한으로 입력된다.\n",
    "* keyword arguement : 순서를 무시하고 입력되는 인자. dict 형태로 입력.\n",
    "    - `**kwargs` : keyword arguments가 무제한으로 입력된다."
   ]
  },
  {
   "cell_type": "code",
   "execution_count": 1,
   "metadata": {},
   "outputs": [
    {
     "ename": "TypeError",
     "evalue": "plus() got an unexpected keyword argument 'c'",
     "output_type": "error",
     "traceback": [
      "\u001b[1;31m---------------------------------------------------------------------------\u001b[0m",
      "\u001b[1;31mTypeError\u001b[0m                                 Traceback (most recent call last)",
      "\u001b[1;32m<ipython-input-1-64220e458aa8>\u001b[0m in \u001b[0;36m<module>\u001b[1;34m\u001b[0m\n\u001b[0;32m      2\u001b[0m     \u001b[1;32mreturn\u001b[0m \u001b[0ma\u001b[0m\u001b[1;33m+\u001b[0m\u001b[0mb\u001b[0m\u001b[1;33m\u001b[0m\u001b[1;33m\u001b[0m\u001b[0m\n\u001b[0;32m      3\u001b[0m \u001b[1;33m\u001b[0m\u001b[0m\n\u001b[1;32m----> 4\u001b[1;33m \u001b[0mprint\u001b[0m\u001b[1;33m(\u001b[0m\u001b[0mplus\u001b[0m\u001b[1;33m(\u001b[0m\u001b[1;36m1\u001b[0m\u001b[1;33m,\u001b[0m \u001b[0mc\u001b[0m\u001b[1;33m=\u001b[0m\u001b[1;36m3\u001b[0m\u001b[1;33m)\u001b[0m\u001b[1;33m)\u001b[0m\u001b[1;33m\u001b[0m\u001b[1;33m\u001b[0m\u001b[0m\n\u001b[0m",
      "\u001b[1;31mTypeError\u001b[0m: plus() got an unexpected keyword argument 'c'"
     ]
    }
   ],
   "source": [
    "def plus(a, b):\n",
    "    return a+b\n",
    "\n",
    "print(plus(1, c=3))"
   ]
  },
  {
   "cell_type": "code",
   "execution_count": 2,
   "metadata": {},
   "outputs": [
    {
     "name": "stdout",
     "output_type": "stream",
     "text": [
      "2\n"
     ]
    },
    {
     "ename": "TypeError",
     "evalue": "plus() takes 2 positional arguments but 8 were given",
     "output_type": "error",
     "traceback": [
      "\u001b[1;31m---------------------------------------------------------------------------\u001b[0m",
      "\u001b[1;31mTypeError\u001b[0m                                 Traceback (most recent call last)",
      "\u001b[1;32m<ipython-input-2-06b7e2fc3695>\u001b[0m in \u001b[0;36m<module>\u001b[1;34m\u001b[0m\n\u001b[0;32m      6\u001b[0m \u001b[1;33m\u001b[0m\u001b[0m\n\u001b[0;32m      7\u001b[0m \u001b[1;31m# 인자를 여러 개 넘긴다면\u001b[0m\u001b[1;33m\u001b[0m\u001b[1;33m\u001b[0m\u001b[1;33m\u001b[0m\u001b[0m\n\u001b[1;32m----> 8\u001b[1;33m \u001b[0mprint\u001b[0m\u001b[1;33m(\u001b[0m\u001b[0mplus\u001b[0m\u001b[1;33m(\u001b[0m\u001b[1;36m1\u001b[0m\u001b[1;33m,\u001b[0m \u001b[1;36m1\u001b[0m\u001b[1;33m,\u001b[0m \u001b[1;36m1\u001b[0m\u001b[1;33m,\u001b[0m \u001b[1;36m1\u001b[0m\u001b[1;33m,\u001b[0m \u001b[1;36m1\u001b[0m\u001b[1;33m,\u001b[0m \u001b[1;36m1\u001b[0m\u001b[1;33m,\u001b[0m \u001b[1;36m1\u001b[0m\u001b[1;33m,\u001b[0m \u001b[1;36m1\u001b[0m\u001b[1;33m)\u001b[0m\u001b[1;33m)\u001b[0m\u001b[1;33m\u001b[0m\u001b[1;33m\u001b[0m\u001b[0m\n\u001b[0m",
      "\u001b[1;31mTypeError\u001b[0m: plus() takes 2 positional arguments but 8 were given"
     ]
    }
   ],
   "source": [
    "# 기본 함수 : 2개의 인자를 받아서 합을 return한다.\n",
    "def plus(a, b):\n",
    "    return a+b\n",
    "\n",
    "print(plus(1, 1))\n",
    "\n",
    "# 인자를 여러 개 넘긴다면\n",
    "print(plus(1, 1, 1, 1, 1, 1, 1, 1))"
   ]
  },
  {
   "cell_type": "code",
   "execution_count": 3,
   "metadata": {},
   "outputs": [
    {
     "name": "stdout",
     "output_type": "stream",
     "text": [
      "args: (1, 1, 1, 3)\n",
      "3\n"
     ]
    },
    {
     "ename": "TypeError",
     "evalue": "plus_() got an unexpected keyword argument 'hello'",
     "output_type": "error",
     "traceback": [
      "\u001b[1;31m---------------------------------------------------------------------------\u001b[0m",
      "\u001b[1;31mTypeError\u001b[0m                                 Traceback (most recent call last)",
      "\u001b[1;32m<ipython-input-3-cfa49765e78e>\u001b[0m in \u001b[0;36m<module>\u001b[1;34m\u001b[0m\n\u001b[0;32m      7\u001b[0m \u001b[1;33m\u001b[0m\u001b[0m\n\u001b[0;32m      8\u001b[0m \u001b[1;31m# keyword argument를 넘긴다면\u001b[0m\u001b[1;33m\u001b[0m\u001b[1;33m\u001b[0m\u001b[1;33m\u001b[0m\u001b[0m\n\u001b[1;32m----> 9\u001b[1;33m \u001b[0mprint\u001b[0m\u001b[1;33m(\u001b[0m\u001b[0mplus_\u001b[0m\u001b[1;33m(\u001b[0m\u001b[1;36m1\u001b[0m\u001b[1;33m,\u001b[0m \u001b[1;36m2\u001b[0m\u001b[1;33m,\u001b[0m \u001b[1;36m1\u001b[0m\u001b[1;33m,\u001b[0m \u001b[1;36m3\u001b[0m\u001b[1;33m,\u001b[0m \u001b[1;36m1\u001b[0m\u001b[1;33m,\u001b[0m \u001b[1;36m4\u001b[0m\u001b[1;33m,\u001b[0m \u001b[0mhello\u001b[0m\u001b[1;33m=\u001b[0m\u001b[1;32mTrue\u001b[0m\u001b[1;33m,\u001b[0m \u001b[0mbye\u001b[0m\u001b[1;33m=\u001b[0m\u001b[1;32mFalse\u001b[0m\u001b[1;33m,\u001b[0m \u001b[0mfdf\u001b[0m\u001b[1;33m=\u001b[0m\u001b[1;36m1\u001b[0m\u001b[1;33m)\u001b[0m\u001b[1;33m)\u001b[0m\u001b[1;33m\u001b[0m\u001b[1;33m\u001b[0m\u001b[0m\n\u001b[0m",
      "\u001b[1;31mTypeError\u001b[0m: plus_() got an unexpected keyword argument 'hello'"
     ]
    }
   ],
   "source": [
    "# 무제한으로 인자를 받아 합을 return하는 함수\n",
    "def plus_(a, b, *args):\n",
    "    print(f\"args: {args}\")\n",
    "    return a + b\n",
    "\n",
    "print(plus_(1, 2, 1, 1, 1, 3))\n",
    "\n",
    "# keyword argument를 넘긴다면\n",
    "print(plus_(1, 2, 1, 3, 1, 4, hello=True, bye=False, fdf=1))"
   ]
  },
  {
   "cell_type": "code",
   "execution_count": 4,
   "metadata": {},
   "outputs": [
    {
     "name": "stdout",
     "output_type": "stream",
     "text": [
      "args: (1, 3, 1, 4)\n",
      "kwargs: {'hello': True, 'bye': False, 'fdf': 1}\n",
      "3\n"
     ]
    }
   ],
   "source": [
    "# 무제한으로 keyword argument를 받고 싶다면\n",
    "def plus__(a, b, *args, **kwargs):\n",
    "    print(f\"args: {args}\")\n",
    "    print(f\"kwargs: {kwargs}\")\n",
    "    return a+b\n",
    "\n",
    "print(plus__(1, 2, 1, 3, 1, 4, hello=True, bye=False, fdf=1))"
   ]
  },
  {
   "cell_type": "code",
   "execution_count": 5,
   "metadata": {},
   "outputs": [
    {
     "name": "stdout",
     "output_type": "stream",
     "text": [
      "63\n"
     ]
    }
   ],
   "source": [
    "# 무한 계산기\n",
    "def plus___(*args):\n",
    "    result = 0\n",
    "    for number in args:\n",
    "        result += number\n",
    "    return result\n",
    "\n",
    "print(plus___(1, 2, 3, 5, 5, 1, 2, 3, 1, 5, 6, 7, 8, 2, 3, 5, 4))"
   ]
  },
  {
   "cell_type": "markdown",
   "metadata": {},
   "source": [
    "# 2. OOP"
   ]
  },
  {
   "cell_type": "markdown",
   "metadata": {},
   "source": [
    "## 2.1. Intro\n",
    "\n",
    "* class : 설계도. 만들 제품의 속성, 만들어지는 방식 등을 안내한다.\n",
    "* instance(s) : 설계도를 가지고 만든 제품(들). 설계도가 가지고 있는 속성을 가진다.\n",
    "* instansiation : 설계도를 기반으로 제품을 만드는 과정.\n",
    "\n",
    " class를 가지고 무한히 많은 instance를 만들 수 있다. instance를 만들 때는 class를 호출하면 된다. 호출을 위해 class 뒤에 괄호(`()`를 붙인다.) 새로운 속성도 부여할 수 있다."
   ]
  },
  {
   "cell_type": "code",
   "execution_count": 6,
   "metadata": {
    "scrolled": true
   },
   "outputs": [
    {
     "name": "stdout",
     "output_type": "stream",
     "text": [
      "I created porche: <__main__.Car object at 0x0000026B7C421358>\n",
      "porche wheels: 4\n",
      "porche color: RED\n",
      "I created ferrari: <__main__.Car object at 0x0000026B7C421390>\n",
      "ferrari wheels: 4\n",
      "ferrari color: YELLOW\n"
     ]
    }
   ],
   "source": [
    "# car 클래스 설계 : 속성만 가짐\n",
    "class Car():\n",
    "    wheels = 4\n",
    "    doors = 4\n",
    "    windows = 4\n",
    "    seats = 4\n",
    "\n",
    "# 포르쉐 차 만들기\n",
    "porche = Car()\n",
    "print(f\"I created porche: {porche}\")\n",
    "print(f\"porche wheels: {porche.wheels}\")\n",
    "\n",
    "# 포르쉐 차에 새로운 속성 부여\n",
    "porche.color = \"RED\"\n",
    "print(f\"porche color: {porche.color}\")\n",
    "\n",
    "# 페라리 차 만들기\n",
    "ferrari = Car()\n",
    "ferrari.color = \"YELLOW\"\n",
    "print(f\"I created ferrari: {ferrari}\")\n",
    "print(f\"ferrari wheels: {ferrari.wheels}\")\n",
    "print(f\"ferrari color: {ferrari.color}\")"
   ]
  },
  {
   "cell_type": "markdown",
   "metadata": {},
   "source": [
    "## 2.2. Methods\n",
    "* method : class 안의 function.\n",
    "    - class로 만들어진 instance가 수행할 수 있는 기능.\n",
    "    - `self` 인자 : 파이썬에서는 메서드를 호출할 때, 메서드를 호출하는 instance 자신을 첫 번째 인자로 사용함. 다른 단어를 사용해도 좋으나, 관용적으로 `self` 사용."
   ]
  },
  {
   "cell_type": "code",
   "execution_count": 7,
   "metadata": {
    "scrolled": false
   },
   "outputs": [
    {
     "name": "stdout",
     "output_type": "stream",
     "text": [
      "메서드를 호출한 것은: <__main__.Car object at 0x0000026B7C417D30>\n",
      "문의 개수는: 4\n",
      "Car Started!\n"
     ]
    }
   ],
   "source": [
    "# car 클래스 설계 : 메서드 추가\n",
    "class Car():\n",
    "    wheels = 4\n",
    "    doors = 4\n",
    "    windows = 4\n",
    "    seats = 4\n",
    "    \n",
    "    def start(self):\n",
    "        print(f\"메서드를 호출한 것은: {self}\")\n",
    "        print(f\"문의 개수는: {self.doors}\") # method를 호출한 instance의 속성.\n",
    "        print(\"Car Started!\")\n",
    "\n",
    "porche = Car()\n",
    "porche.color = \"Sexy RED\"\n",
    "porche.start() # start 메서드 호출."
   ]
  },
  {
   "cell_type": "markdown",
   "metadata": {},
   "source": [
    "* `dir` : 객체가 어떤 변수와 메서드를 갖는지 나열."
   ]
  },
  {
   "cell_type": "code",
   "execution_count": 8,
   "metadata": {
    "scrolled": true
   },
   "outputs": [
    {
     "name": "stdout",
     "output_type": "stream",
     "text": [
      "['__class__', '__delattr__', '__dict__', '__dir__', '__doc__', '__eq__', '__format__', '__ge__', '__getattribute__', '__gt__', '__hash__', '__init__', '__init_subclass__', '__le__', '__lt__', '__module__', '__ne__', '__new__', '__reduce__', '__reduce_ex__', '__repr__', '__setattr__', '__sizeof__', '__str__', '__subclasshook__', '__weakref__', 'doors', 'seats', 'wheels', 'windows']\n"
     ]
    }
   ],
   "source": [
    "# __str__ 메서드 알아보기\n",
    "class Car():\n",
    "    wheels = 4\n",
    "    doors = 4\n",
    "    windows = 4\n",
    "    seats = 4\n",
    "\n",
    "# class 안의 모든 것을 리스트로 보여줌.\n",
    "print(dir(Car))"
   ]
  },
  {
   "cell_type": "markdown",
   "metadata": {},
   "source": [
    " * `__str__` : instance를 문자열(`str`)로 바꾸어 표현. `str(instance)`나 `print(instance)` 시 자동 호출."
   ]
  },
  {
   "cell_type": "code",
   "execution_count": 9,
   "metadata": {},
   "outputs": [
    {
     "name": "stdout",
     "output_type": "stream",
     "text": [
      "<__main__.Car object at 0x0000026B7C4177B8>\n"
     ]
    }
   ],
   "source": [
    "# __str__ 메서드 알아보기\n",
    "class Car():\n",
    "    wheels = 4\n",
    "    doors = 4\n",
    "    windows = 4\n",
    "    seats = 4\n",
    "\n",
    "porche = Car() # porche instance 생성\n",
    "print(porche) # __str__ 메서드 호출 : 인스턴스를 문자열로 바꾸어 표현."
   ]
  },
  {
   "cell_type": "code",
   "execution_count": 10,
   "metadata": {},
   "outputs": [
    {
     "name": "stdout",
     "output_type": "stream",
     "text": [
      "__str__ 메서드가 실행되었습니다.\n"
     ]
    }
   ],
   "source": [
    "# __str__ 메서드 재정의\n",
    "class Car():\n",
    "    wheels = 4\n",
    "    doors = 4\n",
    "    windows = 4\n",
    "    seats = 4\n",
    "    \n",
    "    def __str__(self): # override __str__\n",
    "        return \"__str__ 메서드가 실행되었습니다.\"\n",
    "\n",
    "porche = Car() # porche 인스턴스 생성\n",
    "print(porche) # __str__ 메서드 호출 : 재정의한 __str__ 메서드 작동."
   ]
  },
  {
   "cell_type": "markdown",
   "metadata": {},
   "source": [
    "* `__init()__` : 생성자\n",
    "    - 필수 인자로 `self`를 넣어주어야 한다.\n",
    "    - args, kwargs를 가질 수 있다.\n",
    "    \n",
    " 새로운 차를 만들 때마다 색깔 속성을 다르게 지정하는 것은 매우 비효율적이다. 따라서 설계도를 custom할 수 있어야 한다."
   ]
  },
  {
   "cell_type": "code",
   "execution_count": 11,
   "metadata": {},
   "outputs": [
    {
     "name": "stdout",
     "output_type": "stream",
     "text": [
      "GREEN $30\n",
      "BLACK $1000\n"
     ]
    }
   ],
   "source": [
    "# 키워드 인자를 통한 class 설계\n",
    "class Car():\n",
    "    def __init__(self, **kwargs):\n",
    "        # 미리 정의된 속성\n",
    "        self.wheels = 4\n",
    "        self.doors = 4\n",
    "        self.windows = 4\n",
    "        self.seats = 4\n",
    "        # 키워드 인자를 통해 받는 속성\n",
    "        self.color = kwargs.get('color', 'BLACK')\n",
    "        self.price = kwargs.get('price', '$1000')\n",
    "        \n",
    "    def __str__(self):\n",
    "        return f\"바퀴가 {self.wheels}개인 차입니다.\"\n",
    "\n",
    "# porche 인스턴스 생성\n",
    "porche = Car(color='GREEN', price='$30')\n",
    "print(porche.color, porche.price)\n",
    "\n",
    "# bmw 인스턴스 생성\n",
    "bmw = Car()\n",
    "print(bmw.color, bmw.price)"
   ]
  },
  {
   "cell_type": "markdown",
   "metadata": {},
   "source": [
    "## 2.3. Extending Classes\n",
    "* 상속 : 기존의 class를 상속(inherit)하여 새로운 class를 만들 수 있다.\n",
    "    - 새로운 클래스의 인자로 기존 클래스를 넘긴다.\n",
    "    - 기존 클래스의 모든 속성, 메서드를 그대로 사용할 수 있다.\n",
    "    - 상속하여 만들 새로운 클래스에서 기존 클래스의 메서드를 재정의할 수 있다.\n",
    "    - 메서드 확장 : `super()` 함수를 이용하여 기존 class의 메서드를 확장할 수 있다.\n",
    "        - `super()` 클래스는 부모 클래스를 호출한다."
   ]
  },
  {
   "cell_type": "code",
   "execution_count": 12,
   "metadata": {},
   "outputs": [
    {
     "name": "stdout",
     "output_type": "stream",
     "text": [
      "바퀴가 4개인 차입니다. 지붕을 엽니다.\n",
      "바퀴가 4개인 차입니다. 지붕을 엽니다.\n"
     ]
    }
   ],
   "source": [
    "# 지붕이 열리는 새로운 car class 설계\n",
    "class Car():\n",
    "    def __init__(self, **kwargs):\n",
    "        self.wheels = 4\n",
    "        self.doors = 4\n",
    "        self.windows = 4\n",
    "        self.seats = 4\n",
    "        self.color = kwargs.get('color', 'BLACK')\n",
    "        self.price = kwargs.get('price', '$1000')\n",
    "    \n",
    "    def __str__(self):\n",
    "        return f\"바퀴가 {self.wheels}개인 차입니다.\"\n",
    "    \n",
    "    def take_off(self):\n",
    "        return \"지붕을 엽니다.\"\n",
    "\n",
    "# 해당 클래스로 생성하는 모든 인스턴스들이 지붕이 열리는 차가 된다.\n",
    "porche = Car(color='GREEN', price='$30')\n",
    "sonata = Car()\n",
    "print(porche, porche.take_off())\n",
    "print(sonata, sonata.take_off()) # 문제 : sonata는 오픈카가 아니라면?"
   ]
  },
  {
   "cell_type": "code",
   "execution_count": 13,
   "metadata": {},
   "outputs": [
    {
     "name": "stdout",
     "output_type": "stream",
     "text": [
      "바퀴가 4개인 차입니다. 지붕을 엽니다.\n",
      "바퀴가 4개인 차입니다.\n"
     ]
    },
    {
     "ename": "AttributeError",
     "evalue": "'Car' object has no attribute 'take_off'",
     "output_type": "error",
     "traceback": [
      "\u001b[1;31m---------------------------------------------------------------------------\u001b[0m",
      "\u001b[1;31mAttributeError\u001b[0m                            Traceback (most recent call last)",
      "\u001b[1;32m<ipython-input-13-23b35cbea45a>\u001b[0m in \u001b[0;36m<module>\u001b[1;34m\u001b[0m\n\u001b[0;32m     21\u001b[0m \u001b[0mprint\u001b[0m\u001b[1;33m(\u001b[0m\u001b[0mporche\u001b[0m\u001b[1;33m,\u001b[0m \u001b[0mporche\u001b[0m\u001b[1;33m.\u001b[0m\u001b[0mtake_off\u001b[0m\u001b[1;33m(\u001b[0m\u001b[1;33m)\u001b[0m\u001b[1;33m)\u001b[0m\u001b[1;33m\u001b[0m\u001b[1;33m\u001b[0m\u001b[0m\n\u001b[0;32m     22\u001b[0m \u001b[0mprint\u001b[0m\u001b[1;33m(\u001b[0m\u001b[0msonata\u001b[0m\u001b[1;33m)\u001b[0m\u001b[1;33m\u001b[0m\u001b[1;33m\u001b[0m\u001b[0m\n\u001b[1;32m---> 23\u001b[1;33m \u001b[0mprint\u001b[0m\u001b[1;33m(\u001b[0m\u001b[0msonata\u001b[0m\u001b[1;33m.\u001b[0m\u001b[0mtake_off\u001b[0m\u001b[1;33m(\u001b[0m\u001b[1;33m)\u001b[0m\u001b[1;33m)\u001b[0m \u001b[1;31m# 오픈카가 아니므로, AttributeError.\u001b[0m\u001b[1;33m\u001b[0m\u001b[1;33m\u001b[0m\u001b[0m\n\u001b[0m",
      "\u001b[1;31mAttributeError\u001b[0m: 'Car' object has no attribute 'take_off'"
     ]
    }
   ],
   "source": [
    "# convertible class : 지붕이 열리는 차\n",
    "class Car():\n",
    "    def __init__(self, **kwargs):\n",
    "        self.wheels = 4\n",
    "        self.doors = 4\n",
    "        self.windows = 4\n",
    "        self.seats = 4\n",
    "        self.color = kwargs.get('color', 'BLACK')\n",
    "        self.price = kwargs.get('price', '$1000')\n",
    "    \n",
    "    def __str__(self):\n",
    "        return f\"바퀴가 {self.wheels}개인 차입니다.\"\n",
    "\n",
    "class Convertible(Car):\n",
    "    def take_off(self):\n",
    "        return \"지붕을 엽니다.\"\n",
    "\n",
    "# 오픈카와 오픈카가 아닌 차를 구별하여 인스턴스 생성\n",
    "porche = Convertible(color='GREEN', price='$30')\n",
    "sonata = Car()\n",
    "print(porche, porche.take_off())\n",
    "print(sonata)\n",
    "print(sonata.take_off()) # 오픈카가 아니므로, AttributeError."
   ]
  },
  {
   "cell_type": "code",
   "execution_count": 14,
   "metadata": {},
   "outputs": [
    {
     "name": "stdout",
     "output_type": "stream",
     "text": [
      "바퀴가 4개인 차입니다. 오픈카가 아닙니다.\n",
      "BLACK\n",
      "바퀴가 4개인 차입니다. 오픈카입니다.\n",
      "지붕을 엽니다.\n"
     ]
    }
   ],
   "source": [
    "# 기존 클래스의 메서드 재정의\n",
    "class Car():\n",
    "    def __init__(self, **kwargs):\n",
    "        self.wheels = 4\n",
    "        self.doors = 4\n",
    "        self.windows = 4\n",
    "        self.seats = 4\n",
    "        self.color = kwargs.get('color', 'BLACK')\n",
    "        self.price = kwargs.get('price', '$1000')\n",
    "    \n",
    "    def __str__(self):\n",
    "        return f\"바퀴가 {self.wheels}개인 차입니다. 오픈카가 아닙니다.\"\n",
    "\n",
    "class Convertible(Car):\n",
    "    def take_off(self):\n",
    "        return \"지붕을 엽니다.\"\n",
    "    \n",
    "    def __str__(self):\n",
    "        return f\"바퀴가 {self.wheels}개인 차입니다. 오픈카입니다.\"\n",
    "\n",
    "\n",
    "# 오픈카가 아닌 sonata 인스턴스 생성\n",
    "sonata = Car()\n",
    "print(sonata)\n",
    "print(sonata.color)\n",
    "\n",
    "# 오픈카인 porche 인스턴스 생성\n",
    "porche = Convertible(color='GREEN', price='$30')\n",
    "print(porche) # 재정의된 __str__ 메서드 호출\n",
    "print(porche.take_off())"
   ]
  },
  {
   "cell_type": "code",
   "execution_count": 15,
   "metadata": {},
   "outputs": [
    {
     "name": "stdout",
     "output_type": "stream",
     "text": [
      "BLACK\n",
      "10\n"
     ]
    }
   ],
   "source": [
    "# 기존 클래스의 메서드 확장\n",
    "class Car():\n",
    "    def __init__(self, **kwargs):\n",
    "        self.wheels = 4\n",
    "        self.doors = 4\n",
    "        self.windows = 4\n",
    "        self.seats = 4\n",
    "        self.color = kwargs.get('color', 'BLACK')\n",
    "        self.price = kwargs.get('price', '$1000')\n",
    "    \n",
    "    def __str__(self):\n",
    "        return f\"바퀴가 {self.wheels}개인 차입니다.\"\n",
    "\n",
    "class Convertible(Car):\n",
    "    def __init__(self, **kwargs):\n",
    "        super().__init__(**kwargs) # 부모 클래스인 Car의 init 메서드 호출.\n",
    "        self.time = kwargs.get('time', 10)\n",
    "        \n",
    "    def take_off(self):\n",
    "        return \"지붕을 엽니다.\"\n",
    "    \n",
    "    def __str__(self):\n",
    "        return f\"바퀴가 {self.wheels}개인 차입니다. 오픈카입니다.\"\n",
    "\n",
    "porche = Convertible()\n",
    "print(porche.color)\n",
    "print(porche.time)"
   ]
  }
 ],
 "metadata": {
  "kernelspec": {
   "display_name": "[CPU_ENV]",
   "language": "python",
   "name": "cpu_env"
  },
  "language_info": {
   "codemirror_mode": {
    "name": "ipython",
    "version": 3
   },
   "file_extension": ".py",
   "mimetype": "text/x-python",
   "name": "python",
   "nbconvert_exporter": "python",
   "pygments_lexer": "ipython3",
   "version": "3.6.9"
  }
 },
 "nbformat": 4,
 "nbformat_minor": 2
}
